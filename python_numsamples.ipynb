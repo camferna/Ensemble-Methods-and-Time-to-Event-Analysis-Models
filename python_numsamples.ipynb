{
 "cells": [
  {
   "cell_type": "code",
   "execution_count": 1,
   "id": "e72e9d4c",
   "metadata": {},
   "outputs": [],
   "source": [
    "import pandas as pd\n",
    "import numpy as np\n",
    "from sklearn.utils import check_random_state\n",
    "from matplotlib import pyplot as plt\n",
    "import seaborn as sns\n",
    "sns.set_style(\"darkgrid\")\n"
   ]
  },
  {
   "cell_type": "code",
   "execution_count": 2,
   "id": "5ecb0fe2",
   "metadata": {},
   "outputs": [],
   "source": [
    "n_grid = np.linspace(50,2000,16)\n",
    "np.random.seed(0)\n",
    "seeds = np.random.permutation(5000)[:1100]"
   ]
  },
  {
   "cell_type": "markdown",
   "id": "b8fc49a7",
   "metadata": {},
   "source": [
    "# Functions"
   ]
  },
  {
   "cell_type": "markdown",
   "id": "2d73ba4f",
   "metadata": {},
   "source": [
    "### Covariates"
   ]
  },
  {
   "cell_type": "code",
   "execution_count": 3,
   "id": "a76927e7",
   "metadata": {},
   "outputs": [],
   "source": [
    "from scipy.stats import norm\n",
    "\n",
    "def sample_norm_covariates(n_datapoints, random_seed):\n",
    "    covariate = norm.rvs(1,0.3, size=n_datapoints, random_state = random_seed)\n",
    "    covariate[covariate <0] = 0\n",
    "    return covariate\n",
    "    \n",
    "def sample_uniform_covariates(n_datapoints,rng):\n",
    "    covariate = rng.uniform(low=0, high=1.0, size=n_datapoints).round(decimals=6)\n",
    "    return covariate\n",
    "\n",
    "def sample_categorical_covariates(n_datapoints, rng, cat_number):\n",
    "    covariate = rng.choice(cat_number, size=n_datapoints)\n",
    "    return covariate\n",
    "\n",
    "def sample_dataframe(n_datapoints, n_norm, n_unif, n_cat, random_seed):\n",
    "    \n",
    "    rng = np.random.RandomState(random_seed)\n",
    "    \n",
    "    norm_cov = np.transpose([sample_norm_covariates(n_datapoints,rng) for i in range(n_norm)])\n",
    "    unif_cov = np.transpose([sample_uniform_covariates(n_datapoints,rng) for i in range(n_unif)])\n",
    "    cat_cov = np.transpose([sample_categorical_covariates(n_datapoints,rng, 3) for i in range(n_cat)])\n",
    "    \n",
    "    df = pd.DataFrame(norm_cov)\n",
    "    df = pd.concat([df,pd.DataFrame(unif_cov)],axis =1)\n",
    "    df = pd.concat([df,pd.DataFrame(cat_cov)],axis =1)\n",
    "    df = df.sample(frac = 1, axis = 1, random_state = random_seed)\n",
    "    df.columns = [f'X{i}' for i in range(n_norm+n_unif+n_cat)]\n",
    "    \n",
    "    return df"
   ]
  },
  {
   "cell_type": "markdown",
   "id": "328296da",
   "metadata": {},
   "source": [
    "### Hazards "
   ]
  },
  {
   "cell_type": "code",
   "execution_count": 4,
   "id": "60424709",
   "metadata": {},
   "outputs": [],
   "source": [
    "def weibull_hazard(t, k=1., s=1., t_shift=100, base_rate=1e2):\n",
    "    # t_shift is a trick to avoid avoid negative powers at t=0 when k < 1.\n",
    "    t = t + t_shift\n",
    "    return base_rate * (k / s) * (t / s) ** (k - 1.)\n",
    "\n",
    "def type1_hazards(df, t):\n",
    "    baseline = weibull_hazard(t, k=0.003)\n",
    "    #s = ((df[\"X0\"]+df[\"X1\"])/2 * (1 - (df[\"X2\"]+df[\"X3\"])/2 )).to_numpy()\n",
    "    s = ((df[\"X0\"]+df[\"X1\"])/2 * (df[\"X2\"]+df[\"X3\"])/2 ).to_numpy()\n",
    "    return s.reshape(-1, 1) * baseline.reshape(1, -1)\n",
    "\n",
    "def type2_hazards(df, t):\n",
    "    # Weibull hazards with k = 1 is just a constant over time:\n",
    "    baseline = weibull_hazard(t, k=3, s=8e3)\n",
    "    s = (\n",
    "        ( (df[\"X4\"]+df[\"X5\"])/2 *  df[\"X6\"]  + .001) * df[\"X7\"]\n",
    "    ).to_numpy()\n",
    "    return s.reshape(-1, 1) * baseline.reshape(1, -1)\n",
    "\n",
    "def type3_hazards(df, t):\n",
    "    return np.vstack([\n",
    "        0.5 * weibull_hazard(t, k=6 * x, s=4e3) * y\n",
    "        for x, y in zip((df[\"X8\"]+ df[\"X9\"])/2, (df[\"X10\"]+df[\"X11\"])/2)\n",
    "    ])"
   ]
  },
  {
   "cell_type": "markdown",
   "id": "11bd5b7d",
   "metadata": {},
   "source": [
    "### Event Times"
   ]
  },
  {
   "cell_type": "code",
   "execution_count": 5,
   "id": "7e7b6dec",
   "metadata": {},
   "outputs": [],
   "source": [
    "from scipy.stats import bernoulli\n",
    "\n",
    "def sample_events_by_type(hazards,total_days, random_state=None):\n",
    "    rng = check_random_state(random_state)\n",
    "    outcomes = bernoulli.rvs(hazards, random_state=rng)\n",
    "    any_event_mask = np.any(outcomes, axis=1)\n",
    "    duration = np.full(outcomes.shape[0], fill_value=total_days)\n",
    "    occurrence_rows, occurrence_cols = np.where(outcomes)\n",
    "    # Some individuals might have more than one event occurrence,\n",
    "    # we only keep the first one.\n",
    "    # ex: trials = [[0, 0, 1, 0, 1]] -> duration = 2\n",
    "    _, first_occurrence_idxs = np.unique(occurrence_rows, return_index=True)\n",
    "    duration[any_event_mask] = occurrence_cols[first_occurrence_idxs]\n",
    "    jitter = rng.rand(duration.shape[0])\n",
    "    return pd.DataFrame(dict(event=any_event_mask, duration=duration + jitter))\n",
    "\n",
    "\n",
    "def first_event(event_frames, event_ids, random_seed=None):\n",
    "    rng = check_random_state(random_seed)\n",
    "    event = np.zeros(event_frames[0].shape[0], dtype=np.int32)\n",
    "    max_duration = np.max([ef[\"duration\"].max() for ef in event_frames])\n",
    "    duration = np.full_like(event_frames[0][\"duration\"], fill_value=max_duration)\n",
    "    \n",
    "    out = pd.DataFrame(\n",
    "        {\n",
    "            \"event\": event,\n",
    "            \"duration\": duration,\n",
    "        }\n",
    "    )\n",
    "    for event_id, ef in zip(event_ids, event_frames):\n",
    "        mask = ef[\"event\"] & (ef[\"duration\"] < out[\"duration\"])\n",
    "        out.loc[mask, \"event\"] = event_id\n",
    "        out.loc[mask, \"duration\"] = ef.loc[mask, \"duration\"]\n",
    "    return out\n",
    "\n"
   ]
  },
  {
   "cell_type": "markdown",
   "id": "b5c51cd0",
   "metadata": {},
   "source": [
    "### Censoring"
   ]
  },
  {
   "cell_type": "code",
   "execution_count": 6,
   "id": "d672e5e3",
   "metadata": {},
   "outputs": [],
   "source": [
    "def uniform_censoring(occurrences, censoring_weight=0.5, frac = 1, offset=0, random_state=None):\n",
    "    n_datapoints = occurrences.shape[0]\n",
    "    rng = check_random_state(random_state)\n",
    "    max_duration = occurrences[\"duration\"].max()\n",
    "    censoring_durations = rng.randint(\n",
    "        low=offset, high=max_duration/frac, size=n_datapoints\n",
    "    )\n",
    "    # reduce censoring randomly by setting durations back to the max,\n",
    "    # effectively ensuring that a fraction of the datapoints will not\n",
    "    # be censured.\n",
    "    disabled_censoring_mask = rng.rand(n_datapoints) > censoring_weight\n",
    "    censoring_durations[disabled_censoring_mask] = max_duration\n",
    "    \n",
    "    out = occurrences.copy()\n",
    "    censor_mask = occurrences[\"duration\"] > censoring_durations\n",
    "    out.loc[censor_mask, \"event\"] = 0\n",
    "    out.loc[censor_mask, \"duration\"] = censoring_durations[censor_mask]\n",
    "    return out"
   ]
  },
  {
   "cell_type": "markdown",
   "id": "7de2e35a",
   "metadata": {},
   "source": [
    "### Generate Data"
   ]
  },
  {
   "cell_type": "code",
   "execution_count": 7,
   "id": "d708cdc6",
   "metadata": {},
   "outputs": [],
   "source": [
    "def sample_competing_events(data,total_days, uniform_censoring_weight=1.0, frac=1, max_observation_duration=2000, random_seed=None):\n",
    "    \n",
    "    rng = check_random_state(random_seed)\n",
    "    t = np.linspace(0, total_days, total_days)\n",
    "    \n",
    "    hazard_funcs = [type1_hazards, type2_hazards, type3_hazards]\n",
    "    event_ids = np.arange(len(hazard_funcs)) + 1\n",
    "    all_hazards = np.asarray([hazard_func(data, t) for hazard_func in hazard_funcs])\n",
    "    \n",
    "    occurrences_by_type = [sample_events_by_type(all_hazards[i],total_days, random_state=rng) for i in range(all_hazards.shape[0])]\n",
    "    occurrences = first_event(occurrences_by_type, event_ids)\n",
    "    \n",
    "    censored_occurrences = uniform_censoring(occurrences, censoring_weight=uniform_censoring_weight, frac = frac, random_state=rng)\n",
    "    \n",
    "    if max_observation_duration is not None:\n",
    "        # censor all events after max_observation_duration\n",
    "        max_duration_mask = censored_occurrences[\"duration\"] > max_observation_duration\n",
    "        censored_occurrences.loc[max_duration_mask, \"duration\"] = max_observation_duration\n",
    "        censored_occurrences.loc[max_duration_mask, \"event\"] = 0\n",
    "    return (\n",
    "        censored_occurrences,\n",
    "        occurrences,\n",
    "        all_hazards  # shape = (n_event_types, n_observations, n_timesteps)\n",
    "    )"
   ]
  },
  {
   "cell_type": "code",
   "execution_count": 8,
   "id": "cec28e40",
   "metadata": {},
   "outputs": [],
   "source": [
    "def sample_data(n_datapoints,total_days,frac, seed):\n",
    "    data = sample_dataframe(n_datapoints, 4, 4, 4, seed) \n",
    "    (events, events_uncensored, all_hazards) = sample_competing_events(data, total_days, frac=frac, random_seed= seed)\n",
    "    data['event'] = pd.Series(events['event'])\n",
    "    data['event'] = data['event'].replace(2,1)\n",
    "    data['event'] = data['event'].replace(3,1)\n",
    "    data['duration'] = pd.Series(events['duration'])\n",
    "    \n",
    "    return data"
   ]
  },
  {
   "cell_type": "markdown",
   "id": "e43b7300",
   "metadata": {},
   "source": [
    "# Number of Samples"
   ]
  },
  {
   "cell_type": "code",
   "execution_count": 9,
   "id": "4d0c6f9e",
   "metadata": {},
   "outputs": [
    {
     "name": "stdout",
     "output_type": "stream",
     "text": [
      "Number of samples: 50.0\n",
      "Number of simulation: 240\n",
      "\n",
      "Number of samples: 180.0\n",
      "Number of simulation: 131\n",
      "\n",
      "Number of samples: 310.0\n",
      "Number of simulation: 140\n",
      "\n",
      "Number of samples: 440.0\n",
      "Number of simulation: 126\n",
      "\n",
      "Number of samples: 570.0\n",
      "Number of simulation: 133\n",
      "\n",
      "Number of samples: 700.0\n",
      "Number of simulation: 137\n",
      "\n",
      "Number of samples: 830.0\n",
      "Number of simulation: 108\n",
      "\n",
      "Number of samples: 960.0\n",
      "Number of simulation: 120\n",
      "\n",
      "Number of samples: 1090.0\n",
      "Number of simulation: 125\n",
      "\n",
      "Number of samples: 1220.0\n",
      "Number of simulation: 107\n",
      "\n",
      "Number of samples: 1350.0\n",
      "Number of simulation: 126\n",
      "\n",
      "Number of samples: 1480.0\n",
      "Number of simulation: 121\n",
      "\n",
      "Number of samples: 1610.0\n",
      "Number of simulation: 128\n",
      "\n",
      "Number of samples: 1740.0\n",
      "Number of simulation: 116\n",
      "\n",
      "Number of samples: 1870.0\n",
      "Number of simulation: 115\n",
      "\n",
      "Number of samples: 2000.0\n",
      "Number of simulation: 123\n",
      "\n"
     ]
    }
   ],
   "source": [
    "for N in n_grid:\n",
    "    print(f'Number of samples: {N}')\n",
    "    sd = 0 \n",
    "    for seed_ in seeds:\n",
    "\n",
    "        data = sample_data(int(N),1000,0.45,seed_)\n",
    "        perc = np.sum(data['event']==0)*100/len(data['event'])\n",
    "        if (48. <= perc <= 52.):\n",
    "            sd = sd+1\n",
    "            data.to_pickle(f\"numsampledata_{int(N)}_{sd}.pkl\")\n",
    "            \n",
    "\n",
    "    print(f'Number of simulation: {sd}')\n",
    "    print('')\n",
    "\n"
   ]
  },
  {
   "cell_type": "code",
   "execution_count": 10,
   "id": "28e5a090",
   "metadata": {},
   "outputs": [],
   "source": [
    "import os\n",
    "\n",
    "for N in n_grid:\n",
    "    N = int(N)\n",
    "    for i in range(101,240):\n",
    "        if os.path.exists(f'numsampledata_{N}_{i}.pkl'):\n",
    "            os.remove(f'numsampledata_{N}_{i}.pkl') "
   ]
  },
  {
   "cell_type": "markdown",
   "id": "f71468ee",
   "metadata": {},
   "source": [
    "# Type of Failure"
   ]
  },
  {
   "cell_type": "markdown",
   "id": "2a549cae",
   "metadata": {},
   "source": [
    "### N = 50"
   ]
  },
  {
   "cell_type": "code",
   "execution_count": 12,
   "id": "6e53e561",
   "metadata": {},
   "outputs": [
    {
     "data": {
      "text/html": [
       "<div>\n",
       "<style scoped>\n",
       "    .dataframe tbody tr th:only-of-type {\n",
       "        vertical-align: middle;\n",
       "    }\n",
       "\n",
       "    .dataframe tbody tr th {\n",
       "        vertical-align: top;\n",
       "    }\n",
       "\n",
       "    .dataframe thead th {\n",
       "        text-align: right;\n",
       "    }\n",
       "</style>\n",
       "<table border=\"1\" class=\"dataframe\">\n",
       "  <thead>\n",
       "    <tr style=\"text-align: right;\">\n",
       "      <th></th>\n",
       "      <th>X0</th>\n",
       "      <th>X1</th>\n",
       "      <th>X2</th>\n",
       "      <th>X3</th>\n",
       "      <th>X4</th>\n",
       "      <th>X5</th>\n",
       "      <th>X6</th>\n",
       "      <th>X7</th>\n",
       "      <th>X8</th>\n",
       "      <th>X9</th>\n",
       "      <th>X10</th>\n",
       "      <th>X11</th>\n",
       "      <th>event</th>\n",
       "    </tr>\n",
       "  </thead>\n",
       "  <tbody>\n",
       "    <tr>\n",
       "      <th>0</th>\n",
       "      <td>1</td>\n",
       "      <td>0.238420</td>\n",
       "      <td>0.456759</td>\n",
       "      <td>0.350232</td>\n",
       "      <td>0.633816</td>\n",
       "      <td>0</td>\n",
       "      <td>0.097091</td>\n",
       "      <td>2</td>\n",
       "      <td>0.953831</td>\n",
       "      <td>0</td>\n",
       "      <td>0.076760</td>\n",
       "      <td>1.148564</td>\n",
       "      <td>0</td>\n",
       "    </tr>\n",
       "    <tr>\n",
       "      <th>1</th>\n",
       "      <td>2</td>\n",
       "      <td>1.053234</td>\n",
       "      <td>0.767023</td>\n",
       "      <td>0.337347</td>\n",
       "      <td>0.264125</td>\n",
       "      <td>1</td>\n",
       "      <td>0.717579</td>\n",
       "      <td>0</td>\n",
       "      <td>1.235120</td>\n",
       "      <td>1</td>\n",
       "      <td>0.475158</td>\n",
       "      <td>1.239502</td>\n",
       "      <td>1</td>\n",
       "    </tr>\n",
       "    <tr>\n",
       "      <th>2</th>\n",
       "      <td>0</td>\n",
       "      <td>0.904500</td>\n",
       "      <td>0.851456</td>\n",
       "      <td>0.106689</td>\n",
       "      <td>0.040769</td>\n",
       "      <td>1</td>\n",
       "      <td>0.744982</td>\n",
       "      <td>1</td>\n",
       "      <td>0.573726</td>\n",
       "      <td>2</td>\n",
       "      <td>0.045364</td>\n",
       "      <td>0.693150</td>\n",
       "      <td>0</td>\n",
       "    </tr>\n",
       "    <tr>\n",
       "      <th>3</th>\n",
       "      <td>2</td>\n",
       "      <td>1.040238</td>\n",
       "      <td>1.414311</td>\n",
       "      <td>0.728582</td>\n",
       "      <td>0.206343</td>\n",
       "      <td>0</td>\n",
       "      <td>0.503682</td>\n",
       "      <td>1</td>\n",
       "      <td>0.982463</td>\n",
       "      <td>2</td>\n",
       "      <td>0.762931</td>\n",
       "      <td>1.587294</td>\n",
       "      <td>1</td>\n",
       "    </tr>\n",
       "    <tr>\n",
       "      <th>4</th>\n",
       "      <td>1</td>\n",
       "      <td>1.233334</td>\n",
       "      <td>1.070550</td>\n",
       "      <td>0.580723</td>\n",
       "      <td>0.840705</td>\n",
       "      <td>2</td>\n",
       "      <td>0.797719</td>\n",
       "      <td>2</td>\n",
       "      <td>0.964565</td>\n",
       "      <td>1</td>\n",
       "      <td>0.420637</td>\n",
       "      <td>1.394509</td>\n",
       "      <td>2</td>\n",
       "    </tr>\n",
       "  </tbody>\n",
       "</table>\n",
       "</div>"
      ],
      "text/plain": [
       "   X0        X1        X2        X3        X4  X5        X6  X7        X8  X9  \\\n",
       "0   1  0.238420  0.456759  0.350232  0.633816   0  0.097091   2  0.953831   0   \n",
       "1   2  1.053234  0.767023  0.337347  0.264125   1  0.717579   0  1.235120   1   \n",
       "2   0  0.904500  0.851456  0.106689  0.040769   1  0.744982   1  0.573726   2   \n",
       "3   2  1.040238  1.414311  0.728582  0.206343   0  0.503682   1  0.982463   2   \n",
       "4   1  1.233334  1.070550  0.580723  0.840705   2  0.797719   2  0.964565   1   \n",
       "\n",
       "        X10       X11  event  \n",
       "0  0.076760  1.148564      0  \n",
       "1  0.475158  1.239502      1  \n",
       "2  0.045364  0.693150      0  \n",
       "3  0.762931  1.587294      1  \n",
       "4  0.420637  1.394509      2  "
      ]
     },
     "execution_count": 12,
     "metadata": {},
     "output_type": "execute_result"
    }
   ],
   "source": [
    "total_days = 1000\n",
    "frac = 0.45\n",
    "seed = seeds[0]\n",
    "data = sample_dataframe(50, 4, 4, 4, seed) \n",
    "(events, events_uncensored, all_hazards) = sample_competing_events(data, total_days, frac=frac, random_seed= seed)\n",
    "data['event'] = pd.Series(events['event'])\n",
    "#data['event'] = data['event'].replace(2,1)\n",
    "#data['event'] = data['event'].replace(3,1)\n",
    "#data['duration'] = pd.Series(events['duration'])\n",
    "data.head()"
   ]
  },
  {
   "cell_type": "code",
   "execution_count": 13,
   "id": "ec4f8c1f",
   "metadata": {},
   "outputs": [
    {
     "data": {
      "text/plain": [
       "48.0"
      ]
     },
     "execution_count": 13,
     "metadata": {},
     "output_type": "execute_result"
    }
   ],
   "source": [
    "perc = np.sum(data['event']==0)*100/len(data['event'])\n",
    "perc"
   ]
  },
  {
   "cell_type": "code",
   "execution_count": 18,
   "id": "f30ad59b",
   "metadata": {},
   "outputs": [],
   "source": [
    "num_event = np.sum(data['event']!=0)"
   ]
  },
  {
   "cell_type": "code",
   "execution_count": 19,
   "id": "b1e6fd09",
   "metadata": {},
   "outputs": [
    {
     "data": {
      "text/plain": [
       "73.07692307692308"
      ]
     },
     "execution_count": 19,
     "metadata": {},
     "output_type": "execute_result"
    }
   ],
   "source": [
    "np.sum(data['event']==1)*100/num_event"
   ]
  },
  {
   "cell_type": "code",
   "execution_count": 20,
   "id": "d69e784a",
   "metadata": {},
   "outputs": [
    {
     "data": {
      "text/plain": [
       "7.6923076923076925"
      ]
     },
     "execution_count": 20,
     "metadata": {},
     "output_type": "execute_result"
    }
   ],
   "source": [
    "np.sum(data['event']==2)*100/num_event"
   ]
  },
  {
   "cell_type": "code",
   "execution_count": 21,
   "id": "4efc3c03",
   "metadata": {},
   "outputs": [
    {
     "data": {
      "text/plain": [
       "19.23076923076923"
      ]
     },
     "execution_count": 21,
     "metadata": {},
     "output_type": "execute_result"
    }
   ],
   "source": [
    "np.sum(data['event']==3)*100/num_event"
   ]
  },
  {
   "cell_type": "markdown",
   "id": "8c1f277e",
   "metadata": {},
   "source": [
    "### N=2000"
   ]
  },
  {
   "cell_type": "code",
   "execution_count": 44,
   "id": "355c13f7",
   "metadata": {},
   "outputs": [
    {
     "data": {
      "text/html": [
       "<div>\n",
       "<style scoped>\n",
       "    .dataframe tbody tr th:only-of-type {\n",
       "        vertical-align: middle;\n",
       "    }\n",
       "\n",
       "    .dataframe tbody tr th {\n",
       "        vertical-align: top;\n",
       "    }\n",
       "\n",
       "    .dataframe thead th {\n",
       "        text-align: right;\n",
       "    }\n",
       "</style>\n",
       "<table border=\"1\" class=\"dataframe\">\n",
       "  <thead>\n",
       "    <tr style=\"text-align: right;\">\n",
       "      <th></th>\n",
       "      <th>X0</th>\n",
       "      <th>X1</th>\n",
       "      <th>X2</th>\n",
       "      <th>X3</th>\n",
       "      <th>X4</th>\n",
       "      <th>X5</th>\n",
       "      <th>X6</th>\n",
       "      <th>X7</th>\n",
       "      <th>X8</th>\n",
       "      <th>X9</th>\n",
       "      <th>X10</th>\n",
       "      <th>X11</th>\n",
       "      <th>event</th>\n",
       "    </tr>\n",
       "  </thead>\n",
       "  <tbody>\n",
       "    <tr>\n",
       "      <th>0</th>\n",
       "      <td>1.064788</td>\n",
       "      <td>0.924189</td>\n",
       "      <td>2</td>\n",
       "      <td>1.208070</td>\n",
       "      <td>0</td>\n",
       "      <td>0.570211</td>\n",
       "      <td>0.525933</td>\n",
       "      <td>1.111118</td>\n",
       "      <td>0.431915</td>\n",
       "      <td>0.037417</td>\n",
       "      <td>0</td>\n",
       "      <td>1</td>\n",
       "      <td>3</td>\n",
       "    </tr>\n",
       "    <tr>\n",
       "      <th>1</th>\n",
       "      <td>0.640560</td>\n",
       "      <td>0.489096</td>\n",
       "      <td>1</td>\n",
       "      <td>0.282401</td>\n",
       "      <td>0</td>\n",
       "      <td>0.611204</td>\n",
       "      <td>0.332478</td>\n",
       "      <td>0.564717</td>\n",
       "      <td>1.037840</td>\n",
       "      <td>0.508528</td>\n",
       "      <td>2</td>\n",
       "      <td>2</td>\n",
       "      <td>0</td>\n",
       "    </tr>\n",
       "    <tr>\n",
       "      <th>2</th>\n",
       "      <td>0.709673</td>\n",
       "      <td>0.285023</td>\n",
       "      <td>2</td>\n",
       "      <td>0.766734</td>\n",
       "      <td>1</td>\n",
       "      <td>0.557823</td>\n",
       "      <td>0.255944</td>\n",
       "      <td>0.748691</td>\n",
       "      <td>1.104296</td>\n",
       "      <td>0.109941</td>\n",
       "      <td>0</td>\n",
       "      <td>1</td>\n",
       "      <td>1</td>\n",
       "    </tr>\n",
       "    <tr>\n",
       "      <th>3</th>\n",
       "      <td>0.712869</td>\n",
       "      <td>0.102668</td>\n",
       "      <td>2</td>\n",
       "      <td>1.311409</td>\n",
       "      <td>1</td>\n",
       "      <td>0.992587</td>\n",
       "      <td>0.440197</td>\n",
       "      <td>1.480252</td>\n",
       "      <td>1.322194</td>\n",
       "      <td>0.620255</td>\n",
       "      <td>0</td>\n",
       "      <td>0</td>\n",
       "      <td>0</td>\n",
       "    </tr>\n",
       "    <tr>\n",
       "      <th>4</th>\n",
       "      <td>0.918879</td>\n",
       "      <td>0.963147</td>\n",
       "      <td>0</td>\n",
       "      <td>1.383394</td>\n",
       "      <td>1</td>\n",
       "      <td>0.857596</td>\n",
       "      <td>0.850684</td>\n",
       "      <td>1.152569</td>\n",
       "      <td>0.494228</td>\n",
       "      <td>0.396105</td>\n",
       "      <td>2</td>\n",
       "      <td>0</td>\n",
       "      <td>1</td>\n",
       "    </tr>\n",
       "  </tbody>\n",
       "</table>\n",
       "</div>"
      ],
      "text/plain": [
       "         X0        X1  X2        X3  X4        X5        X6        X7  \\\n",
       "0  1.064788  0.924189   2  1.208070   0  0.570211  0.525933  1.111118   \n",
       "1  0.640560  0.489096   1  0.282401   0  0.611204  0.332478  0.564717   \n",
       "2  0.709673  0.285023   2  0.766734   1  0.557823  0.255944  0.748691   \n",
       "3  0.712869  0.102668   2  1.311409   1  0.992587  0.440197  1.480252   \n",
       "4  0.918879  0.963147   0  1.383394   1  0.857596  0.850684  1.152569   \n",
       "\n",
       "         X8        X9  X10  X11  event  \n",
       "0  0.431915  0.037417    0    1      3  \n",
       "1  1.037840  0.508528    2    2      0  \n",
       "2  1.104296  0.109941    0    1      1  \n",
       "3  1.322194  0.620255    0    0      0  \n",
       "4  0.494228  0.396105    2    0      1  "
      ]
     },
     "execution_count": 44,
     "metadata": {},
     "output_type": "execute_result"
    }
   ],
   "source": [
    "total_days = 1000\n",
    "frac = 0.45\n",
    "seed = seeds[11]\n",
    "data = sample_dataframe(2000, 4, 4, 4, seed) \n",
    "(events, events_uncensored, all_hazards) = sample_competing_events(data, total_days, frac=frac, random_seed= seed)\n",
    "data['event'] = pd.Series(events['event'])\n",
    "#data['event'] = data['event'].replace(2,1)\n",
    "#data['event'] = data['event'].replace(3,1)\n",
    "#data['duration'] = pd.Series(events['duration'])\n",
    "data.head()"
   ]
  },
  {
   "cell_type": "code",
   "execution_count": 45,
   "id": "daca01e3",
   "metadata": {},
   "outputs": [
    {
     "data": {
      "text/plain": [
       "51.65"
      ]
     },
     "execution_count": 45,
     "metadata": {},
     "output_type": "execute_result"
    }
   ],
   "source": [
    "perc = np.sum(data['event']==0)*100/len(data['event'])\n",
    "perc"
   ]
  },
  {
   "cell_type": "code",
   "execution_count": 46,
   "id": "e4b792f1",
   "metadata": {},
   "outputs": [],
   "source": [
    "num_event = np.sum(data['event']!=0)"
   ]
  },
  {
   "cell_type": "code",
   "execution_count": 47,
   "id": "1d86fc6b",
   "metadata": {},
   "outputs": [
    {
     "data": {
      "text/plain": [
       "70.63081695966908"
      ]
     },
     "execution_count": 47,
     "metadata": {},
     "output_type": "execute_result"
    }
   ],
   "source": [
    "np.sum(data['event']==1)*100/num_event"
   ]
  },
  {
   "cell_type": "code",
   "execution_count": 48,
   "id": "de321a33",
   "metadata": {},
   "outputs": [
    {
     "data": {
      "text/plain": [
       "8.479834539813858"
      ]
     },
     "execution_count": 48,
     "metadata": {},
     "output_type": "execute_result"
    }
   ],
   "source": [
    "np.sum(data['event']==2)*100/num_event"
   ]
  },
  {
   "cell_type": "code",
   "execution_count": 49,
   "id": "bdae7993",
   "metadata": {},
   "outputs": [
    {
     "data": {
      "text/plain": [
       "20.889348500517062"
      ]
     },
     "execution_count": 49,
     "metadata": {},
     "output_type": "execute_result"
    }
   ],
   "source": [
    "np.sum(data['event']==3)*100/num_event"
   ]
  },
  {
   "cell_type": "code",
   "execution_count": null,
   "id": "89afb642",
   "metadata": {},
   "outputs": [],
   "source": []
  }
 ],
 "metadata": {
  "kernelspec": {
   "display_name": "Python 3 (ipykernel)",
   "language": "python",
   "name": "python3"
  },
  "language_info": {
   "codemirror_mode": {
    "name": "ipython",
    "version": 3
   },
   "file_extension": ".py",
   "mimetype": "text/x-python",
   "name": "python",
   "nbconvert_exporter": "python",
   "pygments_lexer": "ipython3",
   "version": "3.10.12"
  }
 },
 "nbformat": 4,
 "nbformat_minor": 5
}
